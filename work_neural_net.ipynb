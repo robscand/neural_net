{
 "cells": [
  {
   "cell_type": "code",
   "execution_count": 12,
   "metadata": {},
   "outputs": [],
   "source": [
    "# модуль Python, который предоставляет общие математические и числовые операции \n",
    "import numpy as np\n",
    "# библиотека scipy.special с сигмоидой expit()\n",
    "import scipy.special\n",
    "#библиотека для графического отображения массивов\n",
    "import matplotlib.pyplot\n",
    "#гарантировать размещение графики в данном блокноте, а не в отдельном окне\n",
    "%matplotlib inline\n",
    "#измерение времени выполнения обучения нейросети\n",
    "import time"
   ]
  },
  {
   "cell_type": "code",
   "execution_count": 13,
   "metadata": {},
   "outputs": [],
   "source": [
    "# помогает загрузить данные из изображений формата PNG\n",
    "import imageio\n",
    "# glob помогает выбрать несколько файлов, используя шаблон для выбора\n",
    "import glob"
   ]
  },
  {
   "cell_type": "markdown",
   "metadata": {},
   "source": [
    "<b>Создание класса нейросети</b>"
   ]
  },
  {
   "cell_type": "code",
   "execution_count": 14,
   "metadata": {},
   "outputs": [],
   "source": [
    "# определение класса нейронной сети\n",
    "class neuralNetwork:\n",
    "    \n",
    "    #инициализация - задание количества входных, скрытых и выходных узлов\n",
    "    def __init__(self, inputnodes, hiddennodes, outputnodes, learningrate):\n",
    "        # задание количества узлов во входном, скрытом и выходном слое\n",
    "        self.inodes = inputnodes\n",
    "        self.hnodes = hiddennodes\n",
    "        self.onodes = outputnodes\n",
    "        \n",
    "        # Матрицы весовых коэффициентов связей wih (между входным и скрытым \n",
    "        # слоями) и who (между скрытым и выходным слоями).\n",
    "        # Весовые коэффициенты связей между узлом i и узлом j следующего слоя\n",
    "        # обозначены как w_i_j:\n",
    "        # w11 w21\n",
    "        # w12 w22 и тд.\n",
    "        self.wih = np.random.normal(0.0, pow(self.hnodes, -0.5), \n",
    "                                      (self.hnodes, self.inodes))\n",
    "        self.who = np.random.normal(0.0, pow(self.onodes, -0.5), \n",
    "                                      (self.onodes, self.hnodes))\n",
    "        \n",
    "        # коэффициент обучения\n",
    "        self.lr = learningrate\n",
    "        \n",
    "        # использование сигмоиды в качестве функции активации\n",
    "        self.activation_function = lambda x: scipy.special.expit(x)\n",
    "        \n",
    "        pass\n",
    "    \n",
    "    # тренировка нейронной сети - уточнение весовых коэффициентов в процессе \n",
    "    # обработки предоставленных для обучения сети тренировочных примеров\n",
    "    def train(self, inputs_list, targets_list):\n",
    "        # преобразовать список входных значений в двухмерный массив\n",
    "        inputs = np.array(inputs_list, ndmin = 2).T\n",
    "        targets = np.array(targets_list, ndmin = 2).T\n",
    "        \n",
    "        # расчитать входящие сигналы для скрытого слоя\n",
    "        hidden_inputs = np.dot(self.wih, inputs)\n",
    "        # расчитать исходящие сигналы для скрытыго слоя\n",
    "        hidden_outputs = self.activation_function(hidden_inputs)\n",
    "        \n",
    "        # расчитать входящие сигналы для выходного слоя\n",
    "        final_inputs = np.dot(self.who, hidden_outputs)\n",
    "        # расчитать исходящие сигналы для выходного слоя\n",
    "        final_outputs = self.activation_function(final_inputs)\n",
    "        \n",
    "        # ошибки выходного слоя = \n",
    "        # (целевое значение - фактическое значение)\n",
    "        output_errors = targets - final_outputs\n",
    "        # ошибки скрытого слоя - это ошибки output_errors,\n",
    "        # распределенные пропорционально весовым коэффициентам связей\n",
    "        # и рекомбинированные на скрытых узлах\n",
    "        hidden_errors = np.dot(self.who.T, output_errors)\n",
    "        \n",
    "        # обновить весовые коэффициенты для связей между\n",
    "        # скрытым и выходным слоями\n",
    "        self.who += self.lr * np.dot((output_errors * final_outputs *\n",
    "                                     (1.0 - final_outputs)), np.transpose(hidden_outputs))\n",
    "        \n",
    "        # обновить весовые коэффициенты для связей между\n",
    "        # входным и скрытым слоями\n",
    "        self.wih += self.lr * np.dot((hidden_errors * hidden_outputs *\n",
    "                                     (1.0 - hidden_outputs)), np.transpose(inputs))\n",
    "        pass\n",
    "    \n",
    "    # опрос нейронной сети - получение значений сигналов с выходных узлов \n",
    "    # после предоставления значений входящих сигналов\n",
    "    def query(self, inputs_list):\n",
    "        # преобразовать список входных значений \n",
    "        # в двумерный массив\n",
    "        inputs = np.array(inputs_list, ndmin = 2).T\n",
    "        \n",
    "        # рассчитать входящие сигналы для скрытого слоя\n",
    "        hidden_inputs = np.dot(self.wih, inputs)\n",
    "        # рассчитать исходящие сигналы для скрытого слоя\n",
    "        hidden_outputs = self.activation_function(hidden_inputs)\n",
    "        \n",
    "        # рассчитать входящие сигналы для выходного слоя\n",
    "        final_inputs = np.dot(self.who, hidden_outputs)\n",
    "        # рассчитать исходящие сигналы для выходного слоя\n",
    "        final_outputs = self.activation_function(final_inputs)\n",
    "        \n",
    "        return final_outputs\n",
    "    "
   ]
  },
  {
   "cell_type": "markdown",
   "metadata": {},
   "source": [
    "<b>Инициализация нейросети</b>"
   ]
  },
  {
   "cell_type": "code",
   "execution_count": 15,
   "metadata": {},
   "outputs": [],
   "source": [
    "# количество входных, скрытых и выходных узлов\n",
    "\n",
    "#Число представляет собой количество пикселей, из которых состоит изображение цифры\n",
    "input_nodes = 784\n",
    "#Число не больше 784, так как сеть должна находить во входных значениях такие шаблоны,\n",
    "#которые можно выразить в более короткой форме, чем сами эти значения.\n",
    "hidden_nodes = 200\n",
    "#Выходной слой должен обеспечивать вывод 10 маркеров, значит, должен иметь 10 узлов.\n",
    "output_nodes = 10\n",
    "\n",
    "# коэффициент обучения равен 0,2\n",
    "learning_rate = 0.2\n",
    "\n",
    "# создание экземпляра нейронной сети\n",
    "n = neuralNetwork(input_nodes, hidden_nodes, output_nodes, learning_rate)"
   ]
  },
  {
   "cell_type": "markdown",
   "metadata": {},
   "source": [
    "<b>Тренировка нейросети</b>"
   ]
  },
  {
   "cell_type": "code",
   "execution_count": 16,
   "metadata": {},
   "outputs": [
    {
     "name": "stdout",
     "output_type": "stream",
     "text": [
      "Network trained 6.1 minutes\n"
     ]
    }
   ],
   "source": [
    "#загрузить в список тестовый набор данных CSV-файла набора MNIST\n",
    "training_data_file = open('mnist_train.csv', 'r')\n",
    "training_data_list = training_data_file.readlines()\n",
    "training_data_file.close()\n",
    "\n",
    "#переменная указывает, сколько раз тренировочный набор данных\n",
    "#используется для тренировки сети\n",
    "epochs = 8\n",
    "\n",
    "#фиксация начала обучения нейросети\n",
    "start_time = time.time()\n",
    "for e in range(epochs):\n",
    "    #перебрать все записи в тренировочном наборе данных\n",
    "    for record in training_data_list:\n",
    "        #получить список значений, используя символы запятой в качестве разделителей\n",
    "        all_values = record.split(',')\n",
    "        #масштабировать и сместить входные значения\n",
    "        inputs = (np.asfarray(all_values[1:]) / 255.0 * 0.99) + 0.01\n",
    "        #дополнительное масштабирование выходных значений - создание целевых выходных значений -\n",
    "        #все равны 0.01, за исключением желаемого маркерного значения 0.99\n",
    "        targets = np.zeros(output_nodes) + 0.01\n",
    "    \n",
    "        #all_values[0] - целевое маркерное значение для данной записи\n",
    "        targets[int(all_values[0])] = 0.99\n",
    "        n.train(inputs, targets)\n",
    "        \n",
    "#Вывод продолжительности обучения\n",
    "print(\"Network trained {} minutes\".format(str(round((time.time() - start_time)/60, 1))))"
   ]
  },
  {
   "cell_type": "markdown",
   "metadata": {},
   "source": [
    "<b>Загрузка данных для распознавания</b>"
   ]
  },
  {
   "cell_type": "code",
   "execution_count": 17,
   "metadata": {},
   "outputs": [
    {
     "name": "stdout",
     "output_type": "stream",
     "text": [
      "loading ...  my_dataset/06_2828_8num.png\n",
      "0.01\n",
      "1.0\n",
      "loading ...  my_dataset/08_2828_8num.png\n",
      "0.01\n",
      "1.0\n",
      "loading ...  my_dataset/07_2828_4num.png\n",
      "0.01\n",
      "1.0\n",
      "loading ...  my_dataset/02_2828_0num.png\n",
      "0.01\n",
      "1.0\n",
      "loading ...  my_dataset/09_2828_0num.png\n",
      "0.01\n",
      "1.0\n",
      "loading ...  my_dataset/03_2828_3num.png\n",
      "0.01\n",
      "1.0\n",
      "loading ...  my_dataset/00_2828_1num.png\n",
      "0.01\n",
      "1.0\n",
      "loading ...  my_dataset/10_2828_0num.png\n",
      "0.01\n",
      "1.0\n",
      "loading ...  my_dataset/01_2828_0num.png\n",
      "0.01\n",
      "1.0\n",
      "loading ...  my_dataset/04_2828_4num.png\n",
      "0.01\n",
      "1.0\n",
      "loading ...  my_dataset/05_2828_1num.png\n",
      "0.01\n",
      "1.0\n"
     ]
    }
   ],
   "source": [
    "# собственный набор данных для тестирования изображений\n",
    "work_dataset = []\n",
    "items = 0\n",
    "for image_file_name in glob.glob('my_dataset/??_2828_?num.png'):\n",
    "    print (\"loading ... \", image_file_name)\n",
    "    # использование имени файла, чтобы установить правильный маркер для изображения\n",
    "    label = int(image_file_name[-8:-7])\n",
    "    # загрузить данные изображения PNG в массив\n",
    "    img_array = imageio.imread(image_file_name, as_gray=True)\n",
    "    # преобразование квадратного массива, размерностью 28x28 в длинный список значений\n",
    "    img_data  = 255.0 - img_array.reshape(784)\n",
    "    # Масштабирование данных от 0.01 до 1.0\n",
    "    img_data = (img_data / 255.0 * 0.99) + 0.01\n",
    "    print(np.min(img_data))\n",
    "    print(np.max(img_data))\n",
    "    # добавляем в конец списка маркер и данные по изображению PNG\n",
    "    record = np.append(label,img_data)\n",
    "    work_dataset.append(record)\n",
    "    items += 1"
   ]
  },
  {
   "cell_type": "markdown",
   "metadata": {},
   "source": [
    "<b>Опрос нейросети по загруженным данным</b>"
   ]
  },
  {
   "cell_type": "code",
   "execution_count": 18,
   "metadata": {},
   "outputs": [
    {
     "name": "stdout",
     "output_type": "stream",
     "text": [
      "network says  4\n",
      "correct answer 8.0\n",
      "no match!\n",
      "network says  4\n",
      "correct answer 8.0\n",
      "no match!\n",
      "network says  4\n",
      "correct answer 4.0\n",
      "match!\n",
      "network says  0\n",
      "correct answer 0.0\n",
      "match!\n",
      "network says  0\n",
      "correct answer 0.0\n",
      "match!\n",
      "network says  3\n",
      "correct answer 3.0\n",
      "match!\n",
      "network says  1\n",
      "correct answer 1.0\n",
      "match!\n",
      "network says  0\n",
      "correct answer 0.0\n",
      "match!\n",
      "network says  0\n",
      "correct answer 0.0\n",
      "match!\n",
      "network says  4\n",
      "correct answer 4.0\n",
      "match!\n",
      "network says  1\n",
      "correct answer 1.0\n",
      "match!\n"
     ]
    }
   ],
   "source": [
    "# опрос нейросети по каждому кадру\n",
    "for item in range(items):\n",
    "    # печать кадра, передаваемого сети - проигнорировать первое значение, являющееся маркером, \n",
    "    # извлечь оставшиеся 28*28 = 784 значения\n",
    "    # и преобразовать их в массвив, состоящий из 28 строк и 28 столбцов\n",
    "    #matplotlib.pyplot.imshow(work_dataset[item][1:].reshape(28,28), cmap='Greys', interpolation='None')\n",
    "    \n",
    "    # правильный ответ - первое значение\n",
    "    correct_label = work_dataset[item][0]\n",
    "    # на ввод принимаются все данные по изображению, кроме маркера\n",
    "    inputs = work_dataset[item][1:]\n",
    "    \n",
    "    #опрос сети\n",
    "    outputs = n.query(inputs)\n",
    "    #print(outputs)\n",
    "    # Наибольшее из значений входных узлов рассматривается сетью в качестве правильного ответа\n",
    "    #=> индекс наибольшего значения является маркерным значением \n",
    "    label = np.argmax(outputs)\n",
    "    print(\"network says \", label)\n",
    "    print(\"correct answer\", correct_label)\n",
    "    # узнать правильность ответа\n",
    "    if (label == correct_label):\n",
    "        print (\"match!\")\n",
    "    else:\n",
    "        print (\"no match!\")"
   ]
  },
  {
   "cell_type": "code",
   "execution_count": null,
   "metadata": {},
   "outputs": [],
   "source": []
  }
 ],
 "metadata": {
  "kernelspec": {
   "display_name": "Python 3",
   "language": "python",
   "name": "python3"
  },
  "language_info": {
   "codemirror_mode": {
    "name": "ipython",
    "version": 3
   },
   "file_extension": ".py",
   "mimetype": "text/x-python",
   "name": "python",
   "nbconvert_exporter": "python",
   "pygments_lexer": "ipython3",
   "version": "3.7.1"
  }
 },
 "nbformat": 4,
 "nbformat_minor": 2
}
