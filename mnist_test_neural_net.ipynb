{
 "cells": [
  {
   "cell_type": "code",
   "execution_count": 2,
   "metadata": {},
   "outputs": [],
   "source": [
    "# модуль Python, который предоставляет общие математические и числовые операции \n",
    "import numpy as np\n",
    "# библиотека scipy.special с сигмоидой expit()\n",
    "import scipy.special\n",
    "#библиотека для графического отображения массивов\n",
    "import matplotlib.pyplot\n",
    "#гарантировать размещение графики в данном блокноте, а не в отдельном окне\n",
    "%matplotlib inline\n",
    "\n",
    "# определение класса нейронной сети\n",
    "class neuralNetwork:\n",
    "    \n",
    "    #инициализация - задание количества входных, скрытых и выходных узлов\n",
    "    def __init__(self, inputnodes, hiddennodes, outputnodes, learningrate):\n",
    "        # задание количества узлов во входном, скрытом и выходном слое\n",
    "        self.inodes = inputnodes\n",
    "        self.hnodes = hiddennodes\n",
    "        self.onodes = outputnodes\n",
    "        \n",
    "        # Матрицы весовых коэффициентов связей wih (между входным и скрытым \n",
    "        # слоями) и who (между скрытым и выходным слоями).\n",
    "        # Весовые коэффициенты связей между узлом i и узлом j следующего слоя\n",
    "        # обозначены как w_i_j:\n",
    "        # w11 w21\n",
    "        # w12 w22 и тд.\n",
    "        self.wih = np.random.normal(0.0, pow(self.hnodes, -0.5), \n",
    "                                      (self.hnodes, self.inodes))\n",
    "        self.who = np.random.normal(0.0, pow(self.onodes, -0.5), \n",
    "                                      (self.onodes, self.hnodes))\n",
    "        \n",
    "        # коэффициент обучения\n",
    "        self.lr = learningrate\n",
    "        \n",
    "        # использование сигмоиды в качестве функции активации\n",
    "        self.activation_function = lambda x: scipy.special.expit(x)\n",
    "        \n",
    "        pass\n",
    "    \n",
    "    # тренировка нейронной сети - уточнение весовых коэффициентов в процессе \n",
    "    # обработки предоставленных для обучения сети тренировочных примеров\n",
    "    def train(self, inputs_list, targets_list):\n",
    "        # преобразовать список входных значений в двухмерный массив\n",
    "        inputs = np.array(inputs_list, ndmin = 2).T\n",
    "        targets = np.array(targets_list, ndmin = 2).T\n",
    "        \n",
    "        # расчитать входящие сигналы для скрытого слоя\n",
    "        hidden_inputs = np.dot(self.wih, inputs)\n",
    "        # расчитать исходящие сигналы для скрытыго слоя\n",
    "        hidden_outputs = self.activation_function(hidden_inputs)\n",
    "        \n",
    "        # расчитать входящие сигналы для выходного слоя\n",
    "        final_inputs = np.dot(self.who, hidden_outputs)\n",
    "        # расчитать исходящие сигналы для выходного слоя\n",
    "        final_outputs = self.activation_function(final_inputs)\n",
    "        \n",
    "        # ошибки выходного слоя = \n",
    "        # (целевое значение - фактическое значение)\n",
    "        output_errors = targets - final_outputs\n",
    "        # ошибки скрытого слоя - это ошибки output_errors,\n",
    "        # распределенные пропорционально весовым коэффициентам связей\n",
    "        # и рекомбинированные на скрытых узлах\n",
    "        hidden_errors = np.dot(self.who.T, output_errors)\n",
    "        \n",
    "        # обновить весовые коэффициенты для связей между\n",
    "        # скрытым и выходным слоями\n",
    "        self.who += self.lr * np.dot((output_errors * final_outputs *\n",
    "                                     (1.0 - final_outputs)), np.transpose(hidden_outputs))\n",
    "        \n",
    "        # обновить весовые коэффициенты для связей между\n",
    "        # входным и скрытым слоями\n",
    "        self.wih += self.lr * np.dot((hidden_errors * hidden_outputs *\n",
    "                                     (1.0 - hidden_outputs)), np.transpose(inputs))\n",
    "        pass\n",
    "    \n",
    "    # опрос нейронной сети - получение значений сигналов с выходных узлов \n",
    "    # после предоставления значений входящих сигналов\n",
    "    def query(self, inputs_list):\n",
    "        # преобразовать список входных значений \n",
    "        # в двумерный массив\n",
    "        inputs = np.array(inputs_list, ndmin = 2).T\n",
    "        \n",
    "        # рассчитать входящие сигналы для скрытого слоя\n",
    "        hidden_inputs = np.dot(self.wih, inputs)\n",
    "        # рассчитать исходящие сигналы для скрытого слоя\n",
    "        hidden_outputs = self.activation_function(hidden_inputs)\n",
    "        \n",
    "        # рассчитать входящие сигналы для выходного слоя\n",
    "        final_inputs = np.dot(self.who, hidden_outputs)\n",
    "        # рассчитать исходящие сигналы для выходного слоя\n",
    "        final_outputs = self.activation_function(final_inputs)\n",
    "        \n",
    "        return final_outputs\n"
   ]
  },
  {
   "cell_type": "code",
   "execution_count": 3,
   "metadata": {},
   "outputs": [
    {
     "name": "stdout",
     "output_type": "stream",
     "text": [
      "Эффективность =  0.974\n"
     ]
    }
   ],
   "source": [
    "# количество входных, скрытых и выходных узлов\n",
    "\n",
    "#Число представляет собой количество пикселей, из которых состоит изображение цифры\n",
    "input_nodes = 784\n",
    "#Число не больше 784, так как сеть должна находить во входных значениях такие шаблоны,\n",
    "#которые можно выразить в более короткой форме, чем сами эти значения.\n",
    "hidden_nodes = 175\n",
    "#Выходной слой должен обеспечивать вывод 10 маркеров, значит, должен иметь 10 узлов.\n",
    "output_nodes = 10\n",
    "\n",
    "# коэффициент обучения равен 0,3\n",
    "learning_rate = 0.1\n",
    "\n",
    "# создание экземпляра нейронной сети\n",
    "n = neuralNetwork(input_nodes, hidden_nodes, output_nodes, learning_rate)\n",
    "\n",
    "#ТРЕНИРОВКА НЕЙРОННОЙ СЕТИ\n",
    "\n",
    "#загрузить в список тестовый набор данных CSV-файла набора MNIST\n",
    "training_data_file = open('mnist_train.csv', 'r')\n",
    "training_data_list = training_data_file.readlines()\n",
    "training_data_file.close()\n",
    "\n",
    "#переменная указывает, сколько раз тренировочный набор данных\n",
    "#используется для тренировки сети\n",
    "epochs = 8\n",
    "\n",
    "for e in range(epochs):\n",
    "    #перебрать все записи в тренировочном наборе данных\n",
    "    for record in training_data_list:\n",
    "        #получить список значений, используя символы запятой в качестве разделителей\n",
    "        all_values = record.split(',')\n",
    "        #масштабировать и сместить входные значения\n",
    "        inputs = (np.asfarray(all_values[1:]) / 255.0 * 0.99) + 0.01\n",
    "        #дополнительное масштабирование выходных значений - создание целевых выходных значений -\n",
    "        #все равны 0.01, за исключением желаемого маркерного значения 0.99\n",
    "        targets = np.zeros(output_nodes) + 0.01\n",
    "    \n",
    "        #all_values[0] - целевое маркерное значение для данной записи\n",
    "        targets[int(all_values[0])] = 0.99\n",
    "        n.train(inputs, targets)\n",
    "\n",
    "#ТЕСТИРОВАНИЕ НЕЙРОННОЙ СЕТИ\n",
    "\n",
    "#загрузить список в тестовый набор данных CSV-файла набора MNIST\n",
    "test_data_file = open('mnist_test.csv', 'r')\n",
    "test_data_list = test_data_file.readlines()\n",
    "test_data_file.close()\n",
    "\n",
    "#журнал оценок работы сети, первоначально пустой\n",
    "scorecard = []\n",
    "\n",
    "for record in test_data_list:\n",
    "    #получить список значений из записи, используя символы запятой в качестве разделителей\n",
    "    all_values = record.split(',')\n",
    "    #правильный ответ - первое значение\n",
    "    correct_label = int(all_values[0])\n",
    "    #---print(correct_label, 'истинный маркер')\n",
    "    #масштабировать и сместить входные значения\n",
    "    inputs = (np.asfarray(all_values[1:]) / 255.0 * 0.99) + 0.01\n",
    "    \n",
    "    #опрос сети\n",
    "    outputs = n.query(inputs)\n",
    "    # Наибольшее из значений входных узлов рассматривается сетью в качестве правильного ответа\n",
    "    #=> индекс наибольшего значения является маркерным значением \n",
    "    label = np.argmax(outputs)\n",
    "    #---print(label, 'ответ сети')\n",
    "    #присоеденить оценку ответа сети к концу списка\n",
    "    if (label == correct_label):\n",
    "        #в случае правильного ответа сети присоеденить\n",
    "        #к списку значение 1\n",
    "        scorecard.append(1)\n",
    "    else:\n",
    "        #в случае неправильного ответа сети присоеденить\n",
    "        #к списку значение 0\n",
    "        scorecard.append(0)\n",
    "\n",
    "#рассчитать показатель эффективности в виде\n",
    "#доли правильных ответов\n",
    "scorecard_array = np.asfarray(scorecard)\n",
    "print('Эффективность = ', scorecard_array.sum() / scorecard_array.size)"
   ]
  },
  {
   "cell_type": "markdown",
   "metadata": {},
   "source": [
    "<b>Тестирование нейронной сети</b>"
   ]
  },
  {
   "cell_type": "code",
   "execution_count": 27,
   "metadata": {},
   "outputs": [],
   "source": []
  },
  {
   "cell_type": "code",
   "execution_count": 4,
   "metadata": {},
   "outputs": [
    {
     "name": "stdout",
     "output_type": "stream",
     "text": [
      "7\n"
     ]
    }
   ],
   "source": [
    "#получить первую тестовую запись\n",
    "all_values = test_data_list[0].split(',')\n",
    "#вывести маркер\n",
    "print(all_values[0])"
   ]
  },
  {
   "cell_type": "code",
   "execution_count": 5,
   "metadata": {},
   "outputs": [
    {
     "data": {
      "text/plain": [
       "<matplotlib.image.AxesImage at 0x7f0f95ee8710>"
      ]
     },
     "execution_count": 5,
     "metadata": {},
     "output_type": "execute_result"
    },
    {
     "data": {
      "image/png": "[encoded data removed]",
      "text/plain": [
       "<Figure size 432x288 with 1 Axes>"
      ]
     },
     "metadata": {
      "needs_background": "light"
     },
     "output_type": "display_data"
    }
   ],
   "source": [
    "image_array = np.asfarray(all_values[1:]).reshape((28, 28))\n",
    "matplotlib.pyplot.imshow(image_array, cmap = 'Greys',\n",
    "                       interpolation = 'None')"
   ]
  },
  {
   "cell_type": "code",
   "execution_count": 6,
   "metadata": {},
   "outputs": [
    {
     "data": {
      "text/plain": [
       "array([[0.02204873],\n",
       "       [0.0225559 ],\n",
       "       [0.03296818],\n",
       "       [0.00385288],\n",
       "       [0.00344545],\n",
       "       [0.00287547],\n",
       "       [0.00523247],\n",
       "       [0.98491887],\n",
       "       [0.00497164],\n",
       "       [0.0035654 ]])"
      ]
     },
     "execution_count": 6,
     "metadata": {},
     "output_type": "execute_result"
    }
   ],
   "source": [
    "n.query((np.asfarray(all_values[1:]) / 255.0 * 0.99) + 0.01)"
   ]
  },
  {
   "cell_type": "code",
   "execution_count": null,
   "metadata": {},
   "outputs": [],
   "source": []
  },
  {
   "cell_type": "code",
   "execution_count": null,
   "metadata": {},
   "outputs": [],
   "source": []
  }
 ],
 "metadata": {
  "kernelspec": {
   "display_name": "Python 3",
   "language": "python",
   "name": "python3"
  },
  "language_info": {
   "codemirror_mode": {
    "name": "ipython",
    "version": 3
   },
   "file_extension": ".py",
   "mimetype": "text/x-python",
   "name": "python",
   "nbconvert_exporter": "python",
   "pygments_lexer": "ipython3",
   "version": "3.7.1"
  }
 },
 "nbformat": 4,
 "nbformat_minor": 2
}
